{
 "cells": [
  {
   "cell_type": "raw",
   "metadata": {},
   "source": [
    "Name : Eman Ramadan Diab\n",
    "ID : 191001    "
   ]
  },
  {
   "cell_type": "code",
   "execution_count": 2,
   "metadata": {},
   "outputs": [],
   "source": [
    "# Selecting important feature for the delay of the airplan\n",
    "import pandas as pd\n",
    "import numpy as np"
   ]
  },
  {
   "cell_type": "code",
   "execution_count": 2,
   "metadata": {},
   "outputs": [],
   "source": [
    "data_1 = pd.read_csv(\"data_20080.csv\")\n",
    "data_2 = pd.read_csv(\"data_2008.csv\")"
   ]
  },
  {
   "cell_type": "code",
   "execution_count": 3,
   "metadata": {},
   "outputs": [
    {
     "data": {
      "text/plain": [
       "Index(['DAY_OF_MONTH', 'DAY_OF_WEEK', 'FL_DATE', 'ORIGIN_AIRPORT_ID',\n",
       "       'DEST_AIRPORT_ID', 'CRS_DEP_TIME', 'CRS_ARR_TIME', 'ARR_TIME',\n",
       "       'ARR_DEL15', 'CRS_ELAPSED_TIME', 'DISTANCE', 'Unnamed: 11'],\n",
       "      dtype='object')"
      ]
     },
     "execution_count": 3,
     "metadata": {},
     "output_type": "execute_result"
    }
   ],
   "source": [
    "data_1.columns"
   ]
  },
  {
   "cell_type": "code",
   "execution_count": 4,
   "metadata": {},
   "outputs": [
    {
     "data": {
      "text/plain": [
       "DAY_OF_MONTH        -0.135256\n",
       "DAY_OF_WEEK         -0.060115\n",
       "ORIGIN_AIRPORT_ID   -0.013488\n",
       "DEST_AIRPORT_ID      0.004197\n",
       "CRS_DEP_TIME         0.067446\n",
       "CRS_ARR_TIME         0.063619\n",
       "ARR_TIME             0.061020\n",
       "ARR_DEL15            1.000000\n",
       "CRS_ELAPSED_TIME    -0.028880\n",
       "DISTANCE            -0.030695\n",
       "Unnamed: 11               NaN\n",
       "Name: ARR_DEL15, dtype: float64"
      ]
     },
     "execution_count": 4,
     "metadata": {},
     "output_type": "execute_result"
    }
   ],
   "source": [
    "data_1.corr()['ARR_DEL15']"
   ]
  },
  {
   "cell_type": "markdown",
   "metadata": {},
   "source": [
    "# Define the Target \n",
    "\n",
    "Target could be ARR_DELAY  OR ARR_DEl15\n",
    "\n",
    "If we take ARR_DELAY as the target it is a regression problem \n",
    "\n",
    "if we take ARR_DEl15 as a target is a classification problem\n",
    "\n",
    "of course we can treate it as Regression then transfer it to classification problem \n",
    "\n",
    "But for now i'll deal with it as it is a classification problem and see what we got.\n"
   ]
  },
  {
   "cell_type": "markdown",
   "metadata": {},
   "source": [
    "# Task 1 "
   ]
  },
  {
   "cell_type": "markdown",
   "metadata": {},
   "source": [
    "1- Using January Year 2018 data, apply the Decision Tree method to predict flight delay based on the most important variables, use N-Fold Cross Validation (N >= 20) and Confusion Matrix to evaluate and select best possible model with the shortest possible tree. Provide evidence of variables importance and justify your variables selection. (Code: 25 points - Explanation: 25 points)"
   ]
  },
  {
   "cell_type": "markdown",
   "metadata": {},
   "source": [
    "# Classification approach (Preparing Data)\n"
   ]
  },
  {
   "cell_type": "code",
   "execution_count": 5,
   "metadata": {},
   "outputs": [],
   "source": [
    "data_1.drop(['Unnamed: 11'],axis = 1 , inplace = True)"
   ]
  },
  {
   "cell_type": "code",
   "execution_count": 6,
   "metadata": {},
   "outputs": [
    {
     "data": {
      "text/plain": [
       "DAY_OF_MONTH        -0.135256\n",
       "DAY_OF_WEEK         -0.060115\n",
       "ORIGIN_AIRPORT_ID   -0.013488\n",
       "DEST_AIRPORT_ID      0.004197\n",
       "CRS_DEP_TIME         0.067446\n",
       "CRS_ARR_TIME         0.063619\n",
       "ARR_TIME             0.061020\n",
       "ARR_DEL15            1.000000\n",
       "CRS_ELAPSED_TIME    -0.028880\n",
       "DISTANCE            -0.030695\n",
       "Name: ARR_DEL15, dtype: float64"
      ]
     },
     "execution_count": 6,
     "metadata": {},
     "output_type": "execute_result"
    }
   ],
   "source": [
    "data_1.corr()['ARR_DEL15']"
   ]
  },
  {
   "cell_type": "markdown",
   "metadata": {},
   "source": [
    "# Justifying my choice \n",
    "\n",
    "\n",
    "\n",
    "I choosed this variables as it is the most logical variables to ask from the user from my point of view and it also appears that it has relative relation to the target (ARR_DEl15)"
   ]
  },
  {
   "cell_type": "code",
   "execution_count": 8,
   "metadata": {},
   "outputs": [
    {
     "data": {
      "text/plain": [
       "DAY_OF_MONTH        -0.135256\n",
       "DAY_OF_WEEK         -0.060115\n",
       "ORIGIN_AIRPORT_ID   -0.013488\n",
       "DEST_AIRPORT_ID      0.004197\n",
       "CRS_DEP_TIME         0.067446\n",
       "CRS_ARR_TIME         0.063619\n",
       "ARR_TIME             0.061020\n",
       "ARR_DEL15            1.000000\n",
       "CRS_ELAPSED_TIME    -0.028880\n",
       "DISTANCE            -0.030695\n",
       "Name: ARR_DEL15, dtype: float64"
      ]
     },
     "execution_count": 8,
     "metadata": {},
     "output_type": "execute_result"
    }
   ],
   "source": [
    "data_1.corr()['ARR_DEL15']"
   ]
  },
  {
   "cell_type": "code",
   "execution_count": 9,
   "metadata": {},
   "outputs": [],
   "source": [
    "target_col = data_1['ARR_DEL15']\n",
    "target_col2 = data_1['ARR_TIME']"
   ]
  },
  {
   "cell_type": "code",
   "execution_count": 10,
   "metadata": {},
   "outputs": [],
   "source": [
    "data_1.drop(['ARR_DEL15','ARR_TIME','FL_DATE'],axis = 1 , inplace = True)"
   ]
  },
  {
   "cell_type": "code",
   "execution_count": 12,
   "metadata": {},
   "outputs": [],
   "source": [
    "data = pd.concat([data_1,target_col],axis=1)"
   ]
  },
  {
   "cell_type": "code",
   "execution_count": 13,
   "metadata": {},
   "outputs": [],
   "source": [
    "data = data.dropna()"
   ]
  },
  {
   "cell_type": "code",
   "execution_count": 16,
   "metadata": {},
   "outputs": [],
   "source": [
    "from sklearn.utils import shuffle\n",
    "data = shuffle(data, random_state=45)"
   ]
  },
  {
   "cell_type": "code",
   "execution_count": 17,
   "metadata": {},
   "outputs": [],
   "source": [
    "X = data.iloc[:,:-1].values\n",
    "y = data.iloc[:,-1].values"
   ]
  },
  {
   "cell_type": "code",
   "execution_count": 18,
   "metadata": {},
   "outputs": [],
   "source": [
    "from sklearn.model_selection import train_test_split\n",
    "X_train, X_test, y_train, y_test = train_test_split(X, y, test_size=0.33, random_state=42)"
   ]
  },
  {
   "cell_type": "code",
   "execution_count": 19,
   "metadata": {},
   "outputs": [],
   "source": [
    "from sklearn import tree\n",
    "clf = tree.DecisionTreeClassifier()\n",
    "clf = clf.fit(X_train, y_train)"
   ]
  },
  {
   "cell_type": "code",
   "execution_count": 20,
   "metadata": {},
   "outputs": [],
   "source": [
    "y_pred = clf.predict(X_test)"
   ]
  },
  {
   "cell_type": "code",
   "execution_count": 21,
   "metadata": {},
   "outputs": [],
   "source": [
    "from sklearn.metrics import accuracy_score\n",
    "acc = accuracy_score(y_test, y_pred)"
   ]
  },
  {
   "cell_type": "code",
   "execution_count": 22,
   "metadata": {},
   "outputs": [
    {
     "name": "stdout",
     "output_type": "stream",
     "text": [
      "The accuracy of decision tree in predicting whether the fligh would be late or not is :\n",
      " 0.753281925328949\n"
     ]
    }
   ],
   "source": [
    "print(\"The accuracy of decision tree in predicting whether the fligh would be late or not is :\\n\",acc)"
   ]
  },
  {
   "cell_type": "code",
   "execution_count": 23,
   "metadata": {},
   "outputs": [
    {
     "name": "stdout",
     "output_type": "stream",
     "text": [
      "49\n"
     ]
    }
   ],
   "source": [
    "print(clf.tree_.max_depth)"
   ]
  },
  {
   "cell_type": "code",
   "execution_count": 24,
   "metadata": {},
   "outputs": [],
   "source": [
    "from sklearn.tree import DecisionTreeClassifier\n",
    "from sklearn.model_selection import cross_val_score\n",
    "import matplotlib.pyplot as plt\n",
    "\n",
    "# function for fitting trees of various depths on the training data using cross-validation\n",
    "def run_cross_validation_on_trees(X, y, tree_depths, cv=5, scoring='accuracy'):\n",
    "    cv_scores_list = []\n",
    "    cv_scores_std = []\n",
    "    cv_scores_mean = []\n",
    "    accuracy_scores = []\n",
    "    for depth in tree_depths:\n",
    "        tree_model = DecisionTreeClassifier(max_depth=depth)\n",
    "        cv_scores = cross_val_score(tree_model, X, y, cv=cv, scoring=scoring)\n",
    "        cv_scores_list.append(cv_scores)\n",
    "        cv_scores_mean.append(cv_scores.mean())\n",
    "        cv_scores_std.append(cv_scores.std())\n",
    "        accuracy_scores.append(tree_model.fit(X, y).score(X, y))\n",
    "        \n",
    "    cv_scores_mean = np.array(cv_scores_mean)\n",
    "    cv_scores_std = np.array(cv_scores_std)\n",
    "    accuracy_scores = np.array(accuracy_scores)\n",
    "    return cv_scores_mean, cv_scores_std, accuracy_scores\n",
    "  \n",
    "\n",
    "\n",
    "# fitting trees of depth 5 to 30\n",
    "sm_tree_depths = range(5,30)\n",
    "sm_cv_scores_mean, sm_cv_scores_std, sm_accuracy_scores = run_cross_validation_on_trees(X_train, y_train, sm_tree_depths)\n",
    "\n"
   ]
  },
  {
   "cell_type": "code",
   "execution_count": 25,
   "metadata": {},
   "outputs": [
    {
     "data": {
      "image/png": "[encoded data removed]",
      "text/plain": [
       "<Figure size 1080x360 with 1 Axes>"
      ]
     },
     "metadata": {
      "needs_background": "light"
     },
     "output_type": "display_data"
    }
   ],
   "source": [
    "# function for plotting cross-validation results\n",
    "def plot_cross_validation_on_trees(depths, cv_scores_mean, cv_scores_std, accuracy_scores, title):\n",
    "    fig, ax = plt.subplots(1,1, figsize=(15,5))\n",
    "    ax.plot(depths, cv_scores_mean, '-o', label='mean cross-validation accuracy', alpha=0.9)\n",
    "    ax.fill_between(depths, cv_scores_mean-2*cv_scores_std, cv_scores_mean+2*cv_scores_std, alpha=0.2)\n",
    "    ylim = plt.ylim()\n",
    "    ax.plot(depths, accuracy_scores, '-*', label='train accuracy', alpha=0.9)\n",
    "    ax.set_title(title, fontsize=16)\n",
    "    ax.set_xlabel('Tree depth', fontsize=14)\n",
    "    ax.set_ylabel('Accuracy', fontsize=14)\n",
    "    ax.set_ylim(ylim)\n",
    "    ax.set_xticks(depths)\n",
    "    ax.legend()\n",
    "    \n",
    "    \n",
    "# plotting accuracy\n",
    "plot_cross_validation_on_trees(sm_tree_depths, sm_cv_scores_mean, sm_cv_scores_std, sm_accuracy_scores, \n",
    "                               'Accuracy per decision tree depth on training data')    "
   ]
  },
  {
   "cell_type": "code",
   "execution_count": 26,
   "metadata": {},
   "outputs": [],
   "source": [
    "from sklearn.tree import DecisionTreeClassifier\n",
    "from sklearn.model_selection import cross_val_score\n",
    "import matplotlib.pyplot as plt\n",
    "\n",
    "# function for fitting trees of various depths on the training data using cross-validation\n",
    "def run_cross_validation_on_trees(X, y, tree_depths, cv=5, scoring='roc_auc'):\n",
    "    cv_scores_list = []\n",
    "    cv_scores_std = []\n",
    "    cv_scores_mean = []\n",
    "    accuracy_scores = []\n",
    "    for depth in tree_depths:\n",
    "        tree_model = DecisionTreeClassifier(max_depth=depth)\n",
    "        cv_scores = cross_val_score(tree_model, X, y, cv=cv, scoring=scoring)\n",
    "        cv_scores_list.append(cv_scores)\n",
    "        cv_scores_mean.append(cv_scores.mean())\n",
    "        cv_scores_std.append(cv_scores.std())\n",
    "        accuracy_scores.append(tree_model.fit(X, y).score(X, y))\n",
    "        \n",
    "    cv_scores_mean = np.array(cv_scores_mean)\n",
    "    cv_scores_std = np.array(cv_scores_std)\n",
    "    accuracy_scores = np.array(accuracy_scores)\n",
    "    return cv_scores_mean, cv_scores_std, accuracy_scores\n",
    "  \n",
    "\n",
    "\n",
    "# fitting trees of depth 5 to 30\n",
    "sm_tree_depths = range(5,30)\n",
    "sm_cv_scores_mean, sm_cv_scores_std, sm_accuracy_scores = run_cross_validation_on_trees(X_train, y_train, sm_tree_depths)\n",
    "\n",
    "\n"
   ]
  },
  {
   "cell_type": "code",
   "execution_count": 27,
   "metadata": {},
   "outputs": [
    {
     "data": {
      "image/png": "[encoded data removed]",
      "text/plain": [
       "<Figure size 1080x360 with 1 Axes>"
      ]
     },
     "metadata": {
      "needs_background": "light"
     },
     "output_type": "display_data"
    }
   ],
   "source": [
    "# function for plotting cross-validation results\n",
    "def plot_cross_validation_on_trees(depths, cv_scores_mean, cv_scores_std, accuracy_scores, title):\n",
    "    fig, ax = plt.subplots(1,1, figsize=(15,5))\n",
    "    ax.plot(depths, cv_scores_mean, '-o', label='mean cross-validation accuracy', alpha=0.9)\n",
    "    ax.fill_between(depths, cv_scores_mean-2*cv_scores_std, cv_scores_mean+2*cv_scores_std, alpha=0.2)\n",
    "    ylim = plt.ylim()\n",
    "    ax.plot(depths, accuracy_scores, '-*', label='train accuracy', alpha=0.9)\n",
    "    ax.set_title(title, fontsize=16)\n",
    "    ax.set_xlabel('Tree depth', fontsize=14)\n",
    "    ax.set_ylabel('roc_auc', fontsize=14)\n",
    "    ax.set_ylim(ylim)\n",
    "    ax.set_xticks(depths)\n",
    "    ax.legend()\n",
    "    \n",
    "    \n",
    "# plotting accuracy\n",
    "plot_cross_validation_on_trees(sm_tree_depths, sm_cv_scores_mean, sm_cv_scores_std, sm_accuracy_scores, \n",
    "                               'Accuracy per decision tree depth on training data')    "
   ]
  },
  {
   "cell_type": "raw",
   "metadata": {},
   "source": [
    "okay at least Now we know for sure that this is the best Roc we can get! with depth = 13 or 12\n",
    "I'll use 13 because i like number 13 "
   ]
  },
  {
   "cell_type": "code",
   "execution_count": 28,
   "metadata": {},
   "outputs": [],
   "source": [
    "X_train, X_test, y_train, y_test = train_test_split(X, y, test_size=0.33, random_state=45)\n",
    "clf2 = tree.DecisionTreeClassifier(max_depth=13)\n",
    "clf2 = clf2.fit(X_train, y_train)\n",
    "y_pred2= clf2.predict(X_test)\n",
    "acc = accuracy_score(y_test, y_pred2)\n"
   ]
  },
  {
   "cell_type": "code",
   "execution_count": 29,
   "metadata": {},
   "outputs": [
    {
     "data": {
      "text/plain": [
       "0.8230155888301065"
      ]
     },
     "execution_count": 29,
     "metadata": {},
     "output_type": "execute_result"
    }
   ],
   "source": [
    "acc"
   ]
  },
  {
   "cell_type": "markdown",
   "metadata": {},
   "source": [
    "wow this is actually work Great!\n",
    "the tree was built for the whole data was so deep that it affects the accuracy making the model go through alot of decisions\n",
    "it has depth : 47 \n",
    "while when i apply k fold with N = 25 from 5 to 30 \n",
    "i found that may be we don't need that deep i hold that thought and try to train the whole data with tree that has maximum depth as just 10 \n",
    "and it actually improves the accuracy from 0.753281925328949 to 0.8230155888301065\n",
    "\n",
    "Awesome! \n",
    "\n",
    "Now let's check to see the cofucsion matrix for that tree then we can discover the confusion matrix for other trees\n"
   ]
  },
  {
   "cell_type": "code",
   "execution_count": 30,
   "metadata": {},
   "outputs": [
    {
     "data": {
      "text/plain": [
       "array([0.82698133, 0.82491762, 0.82548347, 0.82714775, 0.82688147,\n",
       "       0.8269314 , 0.82453483, 0.82504785, 0.82632937, 0.82449863])"
      ]
     },
     "execution_count": 30,
     "metadata": {},
     "output_type": "execute_result"
    }
   ],
   "source": [
    "from sklearn.model_selection import cross_val_score\n",
    "scores = cross_val_score(clf2, X, y, cv=10)\n",
    "scores"
   ]
  },
  {
   "cell_type": "code",
   "execution_count": 31,
   "metadata": {},
   "outputs": [
    {
     "data": {
      "text/plain": [
       "array([[159449,   3222],\n",
       "       [ 31878,   3734]])"
      ]
     },
     "execution_count": 31,
     "metadata": {},
     "output_type": "execute_result"
    }
   ],
   "source": [
    "from sklearn.metrics import confusion_matrix\n",
    "confusion_matrix(y_test, y_pred2)"
   ]
  },
  {
   "cell_type": "code",
   "execution_count": 32,
   "metadata": {},
   "outputs": [
    {
     "name": "stdout",
     "output_type": "stream",
     "text": [
      "recall DT  0.5425227237854232\n",
      "precision DT  0.6850937444849072\n",
      "f1 score DT  0.5381419226911074\n"
     ]
    }
   ],
   "source": [
    "from sklearn.metrics import recall_score\n",
    "print(\"recall DT \" , recall_score(y_test, y_pred2, average='macro'))\n",
    "from sklearn.metrics import precision_score\n",
    "print(\"precision DT \" , precision_score(y_test, y_pred2, average='macro'))\n",
    "from sklearn.metrics import f1_score\n",
    "print(\"f1 score DT \" ,f1_score(y_test, y_pred2, average='macro'))"
   ]
  },
  {
   "cell_type": "code",
   "execution_count": 33,
   "metadata": {},
   "outputs": [
    {
     "name": "stdout",
     "output_type": "stream",
     "text": [
      "No Skill: ROC AUC=0.500\n",
      "Decision Tree: ROC AUC=0.692\n"
     ]
    },
    {
     "data": {
      "image/png": "[encoded data removed]",
      "text/plain": [
       "<Figure size 432x288 with 1 Axes>"
      ]
     },
     "metadata": {
      "needs_background": "light"
     },
     "output_type": "display_data"
    }
   ],
   "source": [
    "from sklearn.metrics import roc_curve, auc\n",
    "from scipy import interp\n",
    "from sklearn.metrics import roc_auc_score\n",
    "\n",
    "# generate a no skill prediction (majority class)\n",
    "ns_probs = [0 for _ in range(len(y_test))]\n",
    "# fit a model\n",
    "# predict probabilities\n",
    "lr_probs = clf2.predict_proba(X_test)\n",
    "# keep probabilities for the positive outcome only\n",
    "lr_probs = lr_probs[:, 1]\n",
    "# calculate scores\n",
    "ns_auc = roc_auc_score(y_test, ns_probs)\n",
    "lr_auc = roc_auc_score(y_test, lr_probs)\n",
    "# summarize scores\n",
    "print('No Skill: ROC AUC=%.3f' % (ns_auc))\n",
    "print('Decision Tree: ROC AUC=%.3f' % (lr_auc))\n",
    "# calculate roc curves\n",
    "ns_fpr, ns_tpr, _ = roc_curve(y_test, ns_probs)\n",
    "lr_fpr, lr_tpr, _ = roc_curve(y_test, lr_probs)\n",
    "# plot the roc curve for the model\n",
    "plt.plot(ns_fpr, ns_tpr, linestyle='--', label='No Skill')\n",
    "plt.plot(lr_fpr, lr_tpr, marker='.', label='naive bayes')\n",
    "# axis labels\n",
    "plt.xlabel('False Positive Rate')\n",
    "plt.ylabel('True Positive Rate')\n",
    "# show the legend\n",
    "plt.legend()\n",
    "# show the plot\n",
    "plt.show()"
   ]
  },
  {
   "cell_type": "markdown",
   "metadata": {},
   "source": [
    "# My comment \n",
    "\n",
    "\n",
    "As we can see recall and f1 score are very low in this model which means this model can not classify false negative correctly it will always be biased towards that the plan will be late.\n"
   ]
  },
  {
   "cell_type": "raw",
   "metadata": {},
   "source": [
    "Let's play with this a little more!"
   ]
  },
  {
   "cell_type": "markdown",
   "metadata": {},
   "source": [
    "# Descritizing Delays to 6 groups :"
   ]
  },
  {
   "cell_type": "code",
   "execution_count": 34,
   "metadata": {},
   "outputs": [],
   "source": [
    "data = pd.read_csv(\"data_2008arr.csv\")\n",
    "data.drop(['Unnamed: 9'],axis = 1 , inplace = True)\n",
    "data.dropna(inplace= True)\n",
    "target_col2 = data['ARR_DELAY']"
   ]
  },
  {
   "cell_type": "code",
   "execution_count": 35,
   "metadata": {},
   "outputs": [
    {
     "data": {
      "text/html": [
       "<div>\n",
       "<style scoped>\n",
       "    .dataframe tbody tr th:only-of-type {\n",
       "        vertical-align: middle;\n",
       "    }\n",
       "\n",
       "    .dataframe tbody tr th {\n",
       "        vertical-align: top;\n",
       "    }\n",
       "\n",
       "    .dataframe thead th {\n",
       "        text-align: right;\n",
       "    }\n",
       "</style>\n",
       "<table border=\"1\" class=\"dataframe\">\n",
       "  <thead>\n",
       "    <tr style=\"text-align: right;\">\n",
       "      <th></th>\n",
       "      <th>DAY_OF_MONTH</th>\n",
       "      <th>DAY_OF_WEEK</th>\n",
       "      <th>ORIGIN_AIRPORT_ID</th>\n",
       "      <th>DEST_AIRPORT_ID</th>\n",
       "      <th>CRS_DEP_TIME</th>\n",
       "      <th>CRS_ARR_TIME</th>\n",
       "      <th>ARR_DELAY</th>\n",
       "      <th>CRS_ELAPSED_TIME</th>\n",
       "      <th>DISTANCE</th>\n",
       "    </tr>\n",
       "  </thead>\n",
       "  <tbody>\n",
       "    <tr>\n",
       "      <th>0</th>\n",
       "      <td>1</td>\n",
       "      <td>1</td>\n",
       "      <td>10994</td>\n",
       "      <td>10397</td>\n",
       "      <td>1850</td>\n",
       "      <td>2014</td>\n",
       "      <td>-12.0</td>\n",
       "      <td>84.0</td>\n",
       "      <td>259.0</td>\n",
       "    </tr>\n",
       "    <tr>\n",
       "      <th>1</th>\n",
       "      <td>1</td>\n",
       "      <td>1</td>\n",
       "      <td>11433</td>\n",
       "      <td>11995</td>\n",
       "      <td>2012</td>\n",
       "      <td>2217</td>\n",
       "      <td>-1.0</td>\n",
       "      <td>125.0</td>\n",
       "      <td>460.0</td>\n",
       "    </tr>\n",
       "    <tr>\n",
       "      <th>2</th>\n",
       "      <td>1</td>\n",
       "      <td>1</td>\n",
       "      <td>12953</td>\n",
       "      <td>15096</td>\n",
       "      <td>1125</td>\n",
       "      <td>1246</td>\n",
       "      <td>-23.0</td>\n",
       "      <td>81.0</td>\n",
       "      <td>198.0</td>\n",
       "    </tr>\n",
       "    <tr>\n",
       "      <th>3</th>\n",
       "      <td>1</td>\n",
       "      <td>1</td>\n",
       "      <td>13485</td>\n",
       "      <td>12953</td>\n",
       "      <td>1200</td>\n",
       "      <td>1518</td>\n",
       "      <td>85.0</td>\n",
       "      <td>138.0</td>\n",
       "      <td>812.0</td>\n",
       "    </tr>\n",
       "    <tr>\n",
       "      <th>4</th>\n",
       "      <td>1</td>\n",
       "      <td>1</td>\n",
       "      <td>11433</td>\n",
       "      <td>10423</td>\n",
       "      <td>821</td>\n",
       "      <td>1104</td>\n",
       "      <td>-36.0</td>\n",
       "      <td>223.0</td>\n",
       "      <td>1149.0</td>\n",
       "    </tr>\n",
       "    <tr>\n",
       "      <th>...</th>\n",
       "      <td>...</td>\n",
       "      <td>...</td>\n",
       "      <td>...</td>\n",
       "      <td>...</td>\n",
       "      <td>...</td>\n",
       "      <td>...</td>\n",
       "      <td>...</td>\n",
       "      <td>...</td>\n",
       "      <td>...</td>\n",
       "    </tr>\n",
       "    <tr>\n",
       "      <th>621456</th>\n",
       "      <td>31</td>\n",
       "      <td>3</td>\n",
       "      <td>10868</td>\n",
       "      <td>12264</td>\n",
       "      <td>1455</td>\n",
       "      <td>1625</td>\n",
       "      <td>-18.0</td>\n",
       "      <td>90.0</td>\n",
       "      <td>401.0</td>\n",
       "    </tr>\n",
       "    <tr>\n",
       "      <th>621457</th>\n",
       "      <td>31</td>\n",
       "      <td>3</td>\n",
       "      <td>10408</td>\n",
       "      <td>13930</td>\n",
       "      <td>1037</td>\n",
       "      <td>1145</td>\n",
       "      <td>-21.0</td>\n",
       "      <td>68.0</td>\n",
       "      <td>160.0</td>\n",
       "    </tr>\n",
       "    <tr>\n",
       "      <th>621458</th>\n",
       "      <td>31</td>\n",
       "      <td>3</td>\n",
       "      <td>13930</td>\n",
       "      <td>15412</td>\n",
       "      <td>1350</td>\n",
       "      <td>1630</td>\n",
       "      <td>-19.0</td>\n",
       "      <td>100.0</td>\n",
       "      <td>475.0</td>\n",
       "    </tr>\n",
       "    <tr>\n",
       "      <th>621459</th>\n",
       "      <td>31</td>\n",
       "      <td>3</td>\n",
       "      <td>10408</td>\n",
       "      <td>13930</td>\n",
       "      <td>815</td>\n",
       "      <td>931</td>\n",
       "      <td>-10.0</td>\n",
       "      <td>76.0</td>\n",
       "      <td>160.0</td>\n",
       "    </tr>\n",
       "    <tr>\n",
       "      <th>621460</th>\n",
       "      <td>31</td>\n",
       "      <td>3</td>\n",
       "      <td>14574</td>\n",
       "      <td>13930</td>\n",
       "      <td>630</td>\n",
       "      <td>734</td>\n",
       "      <td>-22.0</td>\n",
       "      <td>124.0</td>\n",
       "      <td>531.0</td>\n",
       "    </tr>\n",
       "  </tbody>\n",
       "</table>\n",
       "<p>600857 rows × 9 columns</p>\n",
       "</div>"
      ],
      "text/plain": [
       "        DAY_OF_MONTH  DAY_OF_WEEK  ORIGIN_AIRPORT_ID  DEST_AIRPORT_ID  \\\n",
       "0                  1            1              10994            10397   \n",
       "1                  1            1              11433            11995   \n",
       "2                  1            1              12953            15096   \n",
       "3                  1            1              13485            12953   \n",
       "4                  1            1              11433            10423   \n",
       "...              ...          ...                ...              ...   \n",
       "621456            31            3              10868            12264   \n",
       "621457            31            3              10408            13930   \n",
       "621458            31            3              13930            15412   \n",
       "621459            31            3              10408            13930   \n",
       "621460            31            3              14574            13930   \n",
       "\n",
       "        CRS_DEP_TIME  CRS_ARR_TIME  ARR_DELAY  CRS_ELAPSED_TIME  DISTANCE  \n",
       "0               1850          2014      -12.0              84.0     259.0  \n",
       "1               2012          2217       -1.0             125.0     460.0  \n",
       "2               1125          1246      -23.0              81.0     198.0  \n",
       "3               1200          1518       85.0             138.0     812.0  \n",
       "4                821          1104      -36.0             223.0    1149.0  \n",
       "...              ...           ...        ...               ...       ...  \n",
       "621456          1455          1625      -18.0              90.0     401.0  \n",
       "621457          1037          1145      -21.0              68.0     160.0  \n",
       "621458          1350          1630      -19.0             100.0     475.0  \n",
       "621459           815           931      -10.0              76.0     160.0  \n",
       "621460           630           734      -22.0             124.0     531.0  \n",
       "\n",
       "[600857 rows x 9 columns]"
      ]
     },
     "execution_count": 35,
     "metadata": {},
     "output_type": "execute_result"
    }
   ],
   "source": [
    "data"
   ]
  },
  {
   "cell_type": "code",
   "execution_count": 24,
   "metadata": {},
   "outputs": [],
   "source": [
    "from sklearn import tree\n",
    "from sklearn.utils import shuffle\n",
    "from sklearn.metrics import accuracy_score\n",
    "\n",
    "from sklearn.model_selection import train_test_split"
   ]
  },
  {
   "cell_type": "code",
   "execution_count": 25,
   "metadata": {},
   "outputs": [],
   "source": [
    "data.drop(['ARR_DELAY'],axis =1 , inplace= True)"
   ]
  },
  {
   "cell_type": "code",
   "execution_count": 26,
   "metadata": {},
   "outputs": [],
   "source": [
    "data = pd.concat([data,target_col2],axis = 1)\n"
   ]
  },
  {
   "cell_type": "code",
   "execution_count": 27,
   "metadata": {},
   "outputs": [],
   "source": [
    "data = shuffle(data, random_state=45)"
   ]
  },
  {
   "cell_type": "code",
   "execution_count": 28,
   "metadata": {},
   "outputs": [],
   "source": [
    "# removing negative delays \n",
    "def remove_negative(Str):\n",
    "    if Str <= 0 :\n",
    "        return 0\n",
    "    elif Str > 0 and Str <= 20 :\n",
    "        return 1\n",
    "    elif Str > 20 and Str <= 40 : \n",
    "        return 2\n",
    "    elif Str > 40 and Str <= 60 :\n",
    "        return 3\n",
    "    elif Str > 60 and Str <= 90 :\n",
    "        return 4 \n",
    "    elif Str > 90 and Str < 120 :\n",
    "        return 5\n",
    "    else:\n",
    "        return 6\n",
    "data['ARR_DELAY']= data['ARR_DELAY'].apply(remove_negative)    "
   ]
  },
  {
   "cell_type": "code",
   "execution_count": 29,
   "metadata": {},
   "outputs": [
    {
     "data": {
      "text/plain": [
       "6"
      ]
     },
     "execution_count": 29,
     "metadata": {},
     "output_type": "execute_result"
    }
   ],
   "source": [
    "max(data.dropna().iloc[:,-1])"
   ]
  },
  {
   "cell_type": "code",
   "execution_count": 30,
   "metadata": {},
   "outputs": [],
   "source": [
    "X = data.dropna().iloc[:,:-1].values\n",
    "y = data.dropna().iloc[:,-1].values\n",
    "\n",
    "X_train, X_test, y_train, y_test = train_test_split(X, y, test_size=0.33, random_state=42)"
   ]
  },
  {
   "cell_type": "code",
   "execution_count": 31,
   "metadata": {},
   "outputs": [],
   "source": [
    "clf = tree.DecisionTreeClassifier(max_depth=9)\n",
    "clf = clf.fit(X_train, y_train)"
   ]
  },
  {
   "cell_type": "code",
   "execution_count": 32,
   "metadata": {},
   "outputs": [],
   "source": [
    "y_pred3 = clf.predict(X_test)"
   ]
  },
  {
   "cell_type": "code",
   "execution_count": 33,
   "metadata": {},
   "outputs": [
    {
     "data": {
      "text/plain": [
       "0.6734717550168194"
      ]
     },
     "execution_count": 33,
     "metadata": {},
     "output_type": "execute_result"
    }
   ],
   "source": [
    "accuracy_score(y_pred3,y_test)"
   ]
  },
  {
   "cell_type": "code",
   "execution_count": 70,
   "metadata": {},
   "outputs": [],
   "source": [
    "from sklearn.tree import DecisionTreeClassifier\n",
    "from sklearn.model_selection import cross_val_score\n",
    "import matplotlib.pyplot as plt\n",
    "\n",
    "# function for fitting trees of various depths on the training data using cross-validation\n",
    "def run_cross_validation_on_trees(X, y, tree_depths, cv=5, scoring='accuracy'):\n",
    "    cv_scores_list = []\n",
    "    cv_scores_std = []\n",
    "    cv_scores_mean = []\n",
    "    accuracy_scores = []\n",
    "    for depth in tree_depths:\n",
    "        tree_model = DecisionTreeClassifier(max_depth=depth)\n",
    "        cv_scores = cross_val_score(tree_model, X, y, cv=cv, scoring=scoring)\n",
    "        cv_scores_list.append(cv_scores)\n",
    "        cv_scores_mean.append(cv_scores.mean())\n",
    "        cv_scores_std.append(cv_scores.std())\n",
    "        accuracy_scores.append(tree_model.fit(X, y).score(X, y))\n",
    "        \n",
    "    cv_scores_mean = np.array(cv_scores_mean)\n",
    "    cv_scores_std = np.array(cv_scores_std)\n",
    "    accuracy_scores = np.array(accuracy_scores)\n",
    "    return cv_scores_mean, cv_scores_std, accuracy_scores\n",
    "  \n",
    "\n",
    "\n",
    "# fitting trees of depth 5 to 30\n",
    "sm_tree_depths = range(5,30)\n",
    "sm_cv_scores_mean, sm_cv_scores_std, sm_accuracy_scores = run_cross_validation_on_trees(X_train, y_train, sm_tree_depths)\n",
    "\n",
    "\n"
   ]
  },
  {
   "cell_type": "code",
   "execution_count": 71,
   "metadata": {},
   "outputs": [
    {
     "data": {
      "image/png": "[encoded data removed]",
      "text/plain": [
       "<Figure size 1080x360 with 1 Axes>"
      ]
     },
     "metadata": {
      "needs_background": "light"
     },
     "output_type": "display_data"
    }
   ],
   "source": [
    "# function for plotting cross-validation results\n",
    "def plot_cross_validation_on_trees(depths, cv_scores_mean, cv_scores_std, accuracy_scores, title):\n",
    "    fig, ax = plt.subplots(1,1, figsize=(15,5))\n",
    "    ax.plot(depths, cv_scores_mean, '-o', label='mean cross-validation accuracy', alpha=0.9)\n",
    "    ax.fill_between(depths, cv_scores_mean-2*cv_scores_std, cv_scores_mean+2*cv_scores_std, alpha=0.2)\n",
    "    ylim = plt.ylim()\n",
    "    ax.plot(depths, accuracy_scores, '-*', label='train accuracy', alpha=0.9)\n",
    "    ax.set_title(title, fontsize=16)\n",
    "    ax.set_xlabel('Tree depth', fontsize=14)\n",
    "    ax.set_ylabel('Accuracy', fontsize=14)\n",
    "    ax.set_ylim(ylim)\n",
    "    ax.set_xticks(depths)\n",
    "    ax.legend()\n",
    "    \n",
    "    \n",
    "# plotting accuracy\n",
    "plot_cross_validation_on_trees(sm_tree_depths, sm_cv_scores_mean, sm_cv_scores_std, sm_accuracy_scores, \n",
    "                               'Accuracy per decision tree depth on training data')    "
   ]
  },
  {
   "cell_type": "code",
   "execution_count": 15,
   "metadata": {},
   "outputs": [],
   "source": [
    "df = pd.DataFrame(y_pred3,columns =['predictions']) "
   ]
  },
  {
   "cell_type": "code",
   "execution_count": 16,
   "metadata": {},
   "outputs": [],
   "source": [
    "\n",
    "data_test = pd.DataFrame(X_test ,columns =['DAY_OF_MONTH','DAY_OF_WEEK','ORIGIN_AIRPORT_ID','DEST_AIRPORT_ID','CRS_DEP_TIME','CRS_ARR_TIME','CRS_ELAPSED_TIME','DISTANCE']) \n",
    "\n"
   ]
  },
  {
   "cell_type": "code",
   "execution_count": 17,
   "metadata": {},
   "outputs": [],
   "source": [
    "y_data_test = pd.DataFrame(y_test,columns=['Actual'])\n"
   ]
  },
  {
   "cell_type": "code",
   "execution_count": 18,
   "metadata": {},
   "outputs": [
    {
     "data": {
      "text/html": [
       "<div>\n",
       "<style scoped>\n",
       "    .dataframe tbody tr th:only-of-type {\n",
       "        vertical-align: middle;\n",
       "    }\n",
       "\n",
       "    .dataframe tbody tr th {\n",
       "        vertical-align: top;\n",
       "    }\n",
       "\n",
       "    .dataframe thead th {\n",
       "        text-align: right;\n",
       "    }\n",
       "</style>\n",
       "<table border=\"1\" class=\"dataframe\">\n",
       "  <thead>\n",
       "    <tr style=\"text-align: right;\">\n",
       "      <th></th>\n",
       "      <th>DAY_OF_MONTH</th>\n",
       "      <th>DAY_OF_WEEK</th>\n",
       "      <th>ORIGIN_AIRPORT_ID</th>\n",
       "      <th>DEST_AIRPORT_ID</th>\n",
       "      <th>CRS_DEP_TIME</th>\n",
       "      <th>CRS_ARR_TIME</th>\n",
       "      <th>CRS_ELAPSED_TIME</th>\n",
       "      <th>DISTANCE</th>\n",
       "      <th>Actual</th>\n",
       "      <th>predictions</th>\n",
       "    </tr>\n",
       "  </thead>\n",
       "  <tbody>\n",
       "    <tr>\n",
       "      <th>0</th>\n",
       "      <td>29.0</td>\n",
       "      <td>1.0</td>\n",
       "      <td>13871.0</td>\n",
       "      <td>13232.0</td>\n",
       "      <td>1545.0</td>\n",
       "      <td>1705.0</td>\n",
       "      <td>80.0</td>\n",
       "      <td>423.0</td>\n",
       "      <td>0</td>\n",
       "      <td>0</td>\n",
       "    </tr>\n",
       "    <tr>\n",
       "      <th>1</th>\n",
       "      <td>19.0</td>\n",
       "      <td>5.0</td>\n",
       "      <td>10821.0</td>\n",
       "      <td>10423.0</td>\n",
       "      <td>1925.0</td>\n",
       "      <td>2210.0</td>\n",
       "      <td>225.0</td>\n",
       "      <td>1342.0</td>\n",
       "      <td>0</td>\n",
       "      <td>0</td>\n",
       "    </tr>\n",
       "    <tr>\n",
       "      <th>2</th>\n",
       "      <td>14.0</td>\n",
       "      <td>7.0</td>\n",
       "      <td>11697.0</td>\n",
       "      <td>14492.0</td>\n",
       "      <td>1156.0</td>\n",
       "      <td>1406.0</td>\n",
       "      <td>130.0</td>\n",
       "      <td>680.0</td>\n",
       "      <td>0</td>\n",
       "      <td>0</td>\n",
       "    </tr>\n",
       "    <tr>\n",
       "      <th>3</th>\n",
       "      <td>8.0</td>\n",
       "      <td>1.0</td>\n",
       "      <td>14100.0</td>\n",
       "      <td>13487.0</td>\n",
       "      <td>1055.0</td>\n",
       "      <td>1301.0</td>\n",
       "      <td>186.0</td>\n",
       "      <td>980.0</td>\n",
       "      <td>5</td>\n",
       "      <td>0</td>\n",
       "    </tr>\n",
       "    <tr>\n",
       "      <th>4</th>\n",
       "      <td>15.0</td>\n",
       "      <td>1.0</td>\n",
       "      <td>10721.0</td>\n",
       "      <td>15016.0</td>\n",
       "      <td>1805.0</td>\n",
       "      <td>2020.0</td>\n",
       "      <td>195.0</td>\n",
       "      <td>1047.0</td>\n",
       "      <td>2</td>\n",
       "      <td>0</td>\n",
       "    </tr>\n",
       "    <tr>\n",
       "      <th>...</th>\n",
       "      <td>...</td>\n",
       "      <td>...</td>\n",
       "      <td>...</td>\n",
       "      <td>...</td>\n",
       "      <td>...</td>\n",
       "      <td>...</td>\n",
       "      <td>...</td>\n",
       "      <td>...</td>\n",
       "      <td>...</td>\n",
       "      <td>...</td>\n",
       "    </tr>\n",
       "    <tr>\n",
       "      <th>198278</th>\n",
       "      <td>1.0</td>\n",
       "      <td>1.0</td>\n",
       "      <td>12954.0</td>\n",
       "      <td>14893.0</td>\n",
       "      <td>700.0</td>\n",
       "      <td>830.0</td>\n",
       "      <td>90.0</td>\n",
       "      <td>387.0</td>\n",
       "      <td>0</td>\n",
       "      <td>0</td>\n",
       "    </tr>\n",
       "    <tr>\n",
       "      <th>198279</th>\n",
       "      <td>25.0</td>\n",
       "      <td>4.0</td>\n",
       "      <td>10721.0</td>\n",
       "      <td>14100.0</td>\n",
       "      <td>645.0</td>\n",
       "      <td>825.0</td>\n",
       "      <td>100.0</td>\n",
       "      <td>280.0</td>\n",
       "      <td>0</td>\n",
       "      <td>0</td>\n",
       "    </tr>\n",
       "    <tr>\n",
       "      <th>198280</th>\n",
       "      <td>25.0</td>\n",
       "      <td>4.0</td>\n",
       "      <td>11057.0</td>\n",
       "      <td>10431.0</td>\n",
       "      <td>1439.0</td>\n",
       "      <td>1528.0</td>\n",
       "      <td>49.0</td>\n",
       "      <td>91.0</td>\n",
       "      <td>2</td>\n",
       "      <td>0</td>\n",
       "    </tr>\n",
       "    <tr>\n",
       "      <th>198281</th>\n",
       "      <td>5.0</td>\n",
       "      <td>5.0</td>\n",
       "      <td>11193.0</td>\n",
       "      <td>14082.0</td>\n",
       "      <td>1222.0</td>\n",
       "      <td>1440.0</td>\n",
       "      <td>138.0</td>\n",
       "      <td>850.0</td>\n",
       "      <td>0</td>\n",
       "      <td>0</td>\n",
       "    </tr>\n",
       "    <tr>\n",
       "      <th>198282</th>\n",
       "      <td>8.0</td>\n",
       "      <td>1.0</td>\n",
       "      <td>14057.0</td>\n",
       "      <td>10713.0</td>\n",
       "      <td>1402.0</td>\n",
       "      <td>1618.0</td>\n",
       "      <td>76.0</td>\n",
       "      <td>344.0</td>\n",
       "      <td>0</td>\n",
       "      <td>0</td>\n",
       "    </tr>\n",
       "  </tbody>\n",
       "</table>\n",
       "<p>198283 rows × 10 columns</p>\n",
       "</div>"
      ],
      "text/plain": [
       "        DAY_OF_MONTH  DAY_OF_WEEK  ORIGIN_AIRPORT_ID  DEST_AIRPORT_ID  \\\n",
       "0               29.0          1.0            13871.0          13232.0   \n",
       "1               19.0          5.0            10821.0          10423.0   \n",
       "2               14.0          7.0            11697.0          14492.0   \n",
       "3                8.0          1.0            14100.0          13487.0   \n",
       "4               15.0          1.0            10721.0          15016.0   \n",
       "...              ...          ...                ...              ...   \n",
       "198278           1.0          1.0            12954.0          14893.0   \n",
       "198279          25.0          4.0            10721.0          14100.0   \n",
       "198280          25.0          4.0            11057.0          10431.0   \n",
       "198281           5.0          5.0            11193.0          14082.0   \n",
       "198282           8.0          1.0            14057.0          10713.0   \n",
       "\n",
       "        CRS_DEP_TIME  CRS_ARR_TIME  CRS_ELAPSED_TIME  DISTANCE  Actual  \\\n",
       "0             1545.0        1705.0              80.0     423.0       0   \n",
       "1             1925.0        2210.0             225.0    1342.0       0   \n",
       "2             1156.0        1406.0             130.0     680.0       0   \n",
       "3             1055.0        1301.0             186.0     980.0       5   \n",
       "4             1805.0        2020.0             195.0    1047.0       2   \n",
       "...              ...           ...               ...       ...     ...   \n",
       "198278         700.0         830.0              90.0     387.0       0   \n",
       "198279         645.0         825.0             100.0     280.0       0   \n",
       "198280        1439.0        1528.0              49.0      91.0       2   \n",
       "198281        1222.0        1440.0             138.0     850.0       0   \n",
       "198282        1402.0        1618.0              76.0     344.0       0   \n",
       "\n",
       "        predictions  \n",
       "0                 0  \n",
       "1                 0  \n",
       "2                 0  \n",
       "3                 0  \n",
       "4                 0  \n",
       "...             ...  \n",
       "198278            0  \n",
       "198279            0  \n",
       "198280            0  \n",
       "198281            0  \n",
       "198282            0  \n",
       "\n",
       "[198283 rows x 10 columns]"
      ]
     },
     "execution_count": 18,
     "metadata": {},
     "output_type": "execute_result"
    }
   ],
   "source": [
    "pd.concat([data_test,y_data_test,df],axis = 1 )"
   ]
  },
  {
   "cell_type": "code",
   "execution_count": 20,
   "metadata": {},
   "outputs": [
    {
     "name": "stdout",
     "output_type": "stream",
     "text": [
      "recall DT  0.15185837070604605\n",
      "precision DT  0.23888246078907777\n",
      "f1 score DT  0.1322735490349872\n"
     ]
    }
   ],
   "source": [
    "from sklearn.metrics import confusion_matrix\n",
    "confusion_matrix(y_test, y_pred3)\n",
    "\n",
    "from sklearn.metrics import recall_score\n",
    "print(\"recall DT \" , recall_score(y_test, y_pred3, average='macro'))\n",
    "from sklearn.metrics import precision_score\n",
    "print(\"precision DT \" , precision_score(y_test, y_pred3, average='macro'))\n",
    "from sklearn.metrics import f1_score\n",
    "print(\"f1 score DT \" ,f1_score(y_test, y_pred3, average='macro'))\n",
    "\n",
    "\n",
    "\n"
   ]
  },
  {
   "cell_type": "code",
   "execution_count": 83,
   "metadata": {},
   "outputs": [
    {
     "data": {
      "image/png": "[encoded data removed]",
      "text/plain": [
       "<Figure size 432x288 with 2 Axes>"
      ]
     },
     "metadata": {
      "needs_background": "light"
     },
     "output_type": "display_data"
    },
    {
     "data": {
      "image/png": "[encoded data removed]",
      "text/plain": [
       "<Figure size 432x288 with 2 Axes>"
      ]
     },
     "metadata": {
      "needs_background": "light"
     },
     "output_type": "display_data"
    }
   ],
   "source": [
    "# Great Finally Having  reasonable accuracy with resonable confusion matrix\n",
    "from sklearn.metrics import confusion_matrix\n",
    "from sklearn.metrics import plot_confusion_matrix\n",
    "\n",
    "titles_options = [(\"Confusion matrix, without normalization Logistic Regression\", None),\n",
    "                  (\"Normalized confusion matrix Logistic Regression\", 'true')]\n",
    "\n",
    "for title, normalize in titles_options:\n",
    "    disp = plot_confusion_matrix(clf, X_test, y_test,\n",
    "                                 display_labels=[0,1,2,3,4,5,6],\n",
    "                                 cmap=plt.cm.Blues,\n",
    "                                 normalize=normalize)\n",
    "    disp.ax_.set_title(title)\n",
    "\n",
    "    #print(title)\n",
    "    #print(disp.confusion_matrix)\n",
    "\n",
    "plt.show()\n",
    "\n"
   ]
  },
  {
   "cell_type": "markdown",
   "metadata": {},
   "source": [
    "# Task 2 "
   ]
  },
  {
   "cell_type": "markdown",
   "metadata": {},
   "source": [
    "2- Using January Year 2018 data,  apply Random Forests method using Bagging (Number of trees = N as of Task #1) for the same as Task #1. Compare developed model with the best model selected in Task #1. (Code: 15 points - Explanation: 15 points)\n",
    "\n"
   ]
  },
  {
   "cell_type": "code",
   "execution_count": 1,
   "metadata": {},
   "outputs": [],
   "source": [
    "import pandas as pd\n",
    "import numpy as np\n",
    "\n",
    "from sklearn import tree\n",
    "from sklearn.utils import shuffle\n",
    "from sklearn.metrics import accuracy_score\n",
    "\n",
    "from sklearn.model_selection import train_test_split \n",
    "\n",
    "\n",
    "data = pd.read_csv(\"data_2008arr.csv\")\n",
    "data.drop(['Unnamed: 9'],axis = 1 , inplace = True)\n",
    "data.dropna(inplace= True)\n",
    "target_col2 = data['ARR_DELAY']\n",
    "\n",
    "data.drop(['ARR_DELAY'],axis =1 , inplace= True)\n",
    "data = pd.concat([data,target_col2],axis = 1)\n",
    "data = shuffle(data, random_state=45)\n",
    "\n",
    "# removing negative delays \n",
    "def remove_negative(Str):\n",
    "    if Str <= 0 :\n",
    "        return 0\n",
    "    elif Str > 0 and Str <= 20 :\n",
    "        return 1\n",
    "    elif Str > 20 and Str <= 40 : \n",
    "        return 2\n",
    "    elif Str > 40 and Str <= 60 :\n",
    "        return 3\n",
    "    elif Str > 60 and Str <= 90 :\n",
    "        return 4 \n",
    "    elif Str > 90 and Str < 120 :\n",
    "        return 5\n",
    "    else:\n",
    "        return 6\n",
    "data['ARR_DELAY']= data['ARR_DELAY'].apply(remove_negative)    \n",
    "X = data.dropna().iloc[:,:-1].values\n",
    "y = data.dropna().iloc[:,-1].values\n",
    "\n",
    "X_train, X_test, y_train, y_test = train_test_split(X, y, test_size=0.33, random_state=42)\n",
    "\n"
   ]
  },
  {
   "cell_type": "code",
   "execution_count": 2,
   "metadata": {},
   "outputs": [
    {
     "name": "stdout",
     "output_type": "stream",
     "text": [
      "[[133428      0      0      0      0      0      0]\n",
      " [ 35729      0      0      0      0      0      0]\n",
      " [ 11668      0      0      0      0      0      0]\n",
      " [  5781      0      0      0      0      0      0]\n",
      " [  4517      0      0      0      0      0      0]\n",
      " [  2336      0      0      0      0      0      0]\n",
      " [  4824      0      0      0      0      0      0]]\n",
      "              precision    recall  f1-score   support\n",
      "\n",
      "           0       0.67      1.00      0.80    133428\n",
      "           1       0.00      0.00      0.00     35729\n",
      "           2       0.00      0.00      0.00     11668\n",
      "           3       0.00      0.00      0.00      5781\n",
      "           4       0.00      0.00      0.00      4517\n",
      "           5       0.00      0.00      0.00      2336\n",
      "           6       0.00      0.00      0.00      4824\n",
      "\n",
      "    accuracy                           0.67    198283\n",
      "   macro avg       0.10      0.14      0.11    198283\n",
      "weighted avg       0.45      0.67      0.54    198283\n",
      "\n",
      "0.6729169923795787\n"
     ]
    },
    {
     "name": "stderr",
     "output_type": "stream",
     "text": [
      "/Users/macbook55/.pyenv/versions/3.7.5/lib/python3.7/site-packages/sklearn/metrics/_classification.py:1272: UndefinedMetricWarning: Precision and F-score are ill-defined and being set to 0.0 in labels with no predicted samples. Use `zero_division` parameter to control this behavior.\n",
      "  _warn_prf(average, modifier, msg_start, len(result))\n"
     ]
    }
   ],
   "source": [
    "from sklearn.ensemble import RandomForestClassifier\n",
    "from sklearn.ensemble import BaggingClassifier\n",
    "bagging = BaggingClassifier(RandomForestClassifier(n_estimators = 10, criterion = 'entropy', random_state = 42 , max_depth = 9),max_samples=0.5, max_features=0.6)\n",
    "bagging.fit(X_train, y_train)\n",
    "y_pred = bagging.predict(X_test)\n",
    "\n",
    "\n",
    "from sklearn.metrics import classification_report, confusion_matrix, accuracy_score\n",
    "\n",
    "print(confusion_matrix(y_test,y_pred))\n",
    "print(classification_report(y_test,y_pred))\n",
    "print(accuracy_score(y_test, y_pred))"
   ]
  },
  {
   "cell_type": "code",
   "execution_count": 4,
   "metadata": {},
   "outputs": [
    {
     "data": {
      "text/plain": [
       "array([[133428,      0,      0,      0,      0,      0,      0],\n",
       "       [ 35729,      0,      0,      0,      0,      0,      0],\n",
       "       [ 11668,      0,      0,      0,      0,      0,      0],\n",
       "       [  5781,      0,      0,      0,      0,      0,      0],\n",
       "       [  4517,      0,      0,      0,      0,      0,      0],\n",
       "       [  2336,      0,      0,      0,      0,      0,      0],\n",
       "       [  4824,      0,      0,      0,      0,      0,      0]])"
      ]
     },
     "execution_count": 4,
     "metadata": {},
     "output_type": "execute_result"
    }
   ],
   "source": [
    "confusion_matrix(y_test, y_pred)"
   ]
  },
  {
   "cell_type": "code",
   "execution_count": 21,
   "metadata": {},
   "outputs": [
    {
     "name": "stdout",
     "output_type": "stream",
     "text": [
      "recall RF  0.14285714285714285\n",
      "precision RF  0.09613099891136838\n",
      "f1 score RF  0.11492620297272539\n"
     ]
    },
    {
     "name": "stderr",
     "output_type": "stream",
     "text": [
      "/Users/macbook55/.pyenv/versions/3.7.5/lib/python3.7/site-packages/sklearn/metrics/_classification.py:1272: UndefinedMetricWarning: Precision is ill-defined and being set to 0.0 in labels with no predicted samples. Use `zero_division` parameter to control this behavior.\n",
      "  _warn_prf(average, modifier, msg_start, len(result))\n"
     ]
    }
   ],
   "source": [
    "from sklearn.metrics import recall_score\n",
    "print(\"recall RF \" , recall_score(y_test, y_pred, average='macro'))\n",
    "from sklearn.metrics import precision_score\n",
    "print(\"precision RF \" , precision_score(y_test, y_pred, average='macro'))\n",
    "from sklearn.metrics import f1_score\n",
    "print(\"f1 score RF \" ,f1_score(y_test, y_pred, average='macro'))\n",
    "\n"
   ]
  },
  {
   "cell_type": "raw",
   "metadata": {},
   "source": [
    "I don't know if I did something wrong but for some reason looks like Decision Tree with Kfold is way better than Random forest\n",
    "\n"
   ]
  },
  {
   "cell_type": "markdown",
   "metadata": {},
   "source": [
    "# Comparing part\n"
   ]
  },
  {
   "cell_type": "markdown",
   "metadata": {},
   "source": [
    "However they basically have the same accuracy they are slightly different \n",
    "\n",
    "| comparison field | Decision Tree withKfold   | Random Forest with Bagging |\n",
    "| --- | --- | --- |\n",
    "| precision | 0.2388 | 0.096 |\n",
    "| accuracy | 0.6734 | 0.6729 |\n",
    "| recall | 0.1518 | 0.142 |\n",
    "| f1 | 0.132 | 0.114|\n",
    "\n",
    "\n",
    "I think the the two models are alike very much \n",
    "however we know that random forest is better in handling data with alot of dimensions as it doesn't use all dimensions it just use little of them and still get the same accuracy we get by optimizing Decision Tree model. \n",
    "\n",
    "\n",
    "Of course they some real small difference in precision f1 and recall but at the end of the day they are almost the same model.\n",
    "\n",
    "The experience i got from applying these two models was huge specially in the decision tree part. \n",
    "\n",
    "\n",
    "It was quite interesting to me that decision tree take depths more than it really need for the accuracy to be the most for example the original model got depths almost 29 however the best model only need depth 9."
   ]
  },
  {
   "cell_type": "markdown",
   "metadata": {},
   "source": [
    "# Task 3 "
   ]
  },
  {
   "cell_type": "markdown",
   "metadata": {},
   "source": [
    "3- Validate the two models selected on tasks #1 and #2 on the data of January Year 2019 and explain in details the model performance of both of them on that month. (Code: 10 points - Explanation: 20 points)\n",
    "\n"
   ]
  },
  {
   "cell_type": "code",
   "execution_count": 41,
   "metadata": {},
   "outputs": [
    {
     "data": {
      "text/html": [
       "<div>\n",
       "<style scoped>\n",
       "    .dataframe tbody tr th:only-of-type {\n",
       "        vertical-align: middle;\n",
       "    }\n",
       "\n",
       "    .dataframe tbody tr th {\n",
       "        vertical-align: top;\n",
       "    }\n",
       "\n",
       "    .dataframe thead th {\n",
       "        text-align: right;\n",
       "    }\n",
       "</style>\n",
       "<table border=\"1\" class=\"dataframe\">\n",
       "  <thead>\n",
       "    <tr style=\"text-align: right;\">\n",
       "      <th></th>\n",
       "      <th>DAY_OF_MONTH</th>\n",
       "      <th>DAY_OF_WEEK</th>\n",
       "      <th>ORIGIN_AIRPORT_ID</th>\n",
       "      <th>DEST_AIRPORT_ID</th>\n",
       "      <th>CRS_DEP_TIME</th>\n",
       "      <th>CRS_ARR_TIME</th>\n",
       "      <th>ARR_DELAY</th>\n",
       "      <th>CRS_ELAPSED_TIME</th>\n",
       "      <th>DISTANCE</th>\n",
       "      <th>Unnamed: 9</th>\n",
       "    </tr>\n",
       "  </thead>\n",
       "  <tbody>\n",
       "    <tr>\n",
       "      <th>0</th>\n",
       "      <td>1</td>\n",
       "      <td>2</td>\n",
       "      <td>13577</td>\n",
       "      <td>11057</td>\n",
       "      <td>2157</td>\n",
       "      <td>2311</td>\n",
       "      <td>-3.0</td>\n",
       "      <td>74.0</td>\n",
       "      <td>157.0</td>\n",
       "      <td>NaN</td>\n",
       "    </tr>\n",
       "    <tr>\n",
       "      <th>1</th>\n",
       "      <td>1</td>\n",
       "      <td>2</td>\n",
       "      <td>10529</td>\n",
       "      <td>11278</td>\n",
       "      <td>1151</td>\n",
       "      <td>1325</td>\n",
       "      <td>6.0</td>\n",
       "      <td>94.0</td>\n",
       "      <td>313.0</td>\n",
       "      <td>NaN</td>\n",
       "    </tr>\n",
       "    <tr>\n",
       "      <th>2</th>\n",
       "      <td>1</td>\n",
       "      <td>2</td>\n",
       "      <td>11278</td>\n",
       "      <td>10529</td>\n",
       "      <td>1009</td>\n",
       "      <td>1126</td>\n",
       "      <td>14.0</td>\n",
       "      <td>77.0</td>\n",
       "      <td>313.0</td>\n",
       "      <td>NaN</td>\n",
       "    </tr>\n",
       "    <tr>\n",
       "      <th>3</th>\n",
       "      <td>1</td>\n",
       "      <td>2</td>\n",
       "      <td>11278</td>\n",
       "      <td>11996</td>\n",
       "      <td>2000</td>\n",
       "      <td>2134</td>\n",
       "      <td>-12.0</td>\n",
       "      <td>94.0</td>\n",
       "      <td>396.0</td>\n",
       "      <td>NaN</td>\n",
       "    </tr>\n",
       "    <tr>\n",
       "      <th>4</th>\n",
       "      <td>1</td>\n",
       "      <td>2</td>\n",
       "      <td>13931</td>\n",
       "      <td>11057</td>\n",
       "      <td>1215</td>\n",
       "      <td>1347</td>\n",
       "      <td>-14.0</td>\n",
       "      <td>92.0</td>\n",
       "      <td>290.0</td>\n",
       "      <td>NaN</td>\n",
       "    </tr>\n",
       "    <tr>\n",
       "      <th>...</th>\n",
       "      <td>...</td>\n",
       "      <td>...</td>\n",
       "      <td>...</td>\n",
       "      <td>...</td>\n",
       "      <td>...</td>\n",
       "      <td>...</td>\n",
       "      <td>...</td>\n",
       "      <td>...</td>\n",
       "      <td>...</td>\n",
       "      <td>...</td>\n",
       "    </tr>\n",
       "    <tr>\n",
       "      <th>638644</th>\n",
       "      <td>31</td>\n",
       "      <td>4</td>\n",
       "      <td>11057</td>\n",
       "      <td>11624</td>\n",
       "      <td>1425</td>\n",
       "      <td>1640</td>\n",
       "      <td>-1.0</td>\n",
       "      <td>135.0</td>\n",
       "      <td>736.0</td>\n",
       "      <td>NaN</td>\n",
       "    </tr>\n",
       "    <tr>\n",
       "      <th>638645</th>\n",
       "      <td>31</td>\n",
       "      <td>4</td>\n",
       "      <td>11624</td>\n",
       "      <td>11057</td>\n",
       "      <td>1710</td>\n",
       "      <td>1921</td>\n",
       "      <td>-7.0</td>\n",
       "      <td>131.0</td>\n",
       "      <td>736.0</td>\n",
       "      <td>NaN</td>\n",
       "    </tr>\n",
       "    <tr>\n",
       "      <th>638646</th>\n",
       "      <td>31</td>\n",
       "      <td>4</td>\n",
       "      <td>11278</td>\n",
       "      <td>12339</td>\n",
       "      <td>2205</td>\n",
       "      <td>2357</td>\n",
       "      <td>2.0</td>\n",
       "      <td>112.0</td>\n",
       "      <td>500.0</td>\n",
       "      <td>NaN</td>\n",
       "    </tr>\n",
       "    <tr>\n",
       "      <th>638647</th>\n",
       "      <td>31</td>\n",
       "      <td>4</td>\n",
       "      <td>14100</td>\n",
       "      <td>14122</td>\n",
       "      <td>1749</td>\n",
       "      <td>1913</td>\n",
       "      <td>-13.0</td>\n",
       "      <td>84.0</td>\n",
       "      <td>268.0</td>\n",
       "      <td>NaN</td>\n",
       "    </tr>\n",
       "    <tr>\n",
       "      <th>638648</th>\n",
       "      <td>31</td>\n",
       "      <td>4</td>\n",
       "      <td>13303</td>\n",
       "      <td>13931</td>\n",
       "      <td>2130</td>\n",
       "      <td>2351</td>\n",
       "      <td>-22.0</td>\n",
       "      <td>141.0</td>\n",
       "      <td>802.0</td>\n",
       "      <td>NaN</td>\n",
       "    </tr>\n",
       "  </tbody>\n",
       "</table>\n",
       "<p>638649 rows × 10 columns</p>\n",
       "</div>"
      ],
      "text/plain": [
       "        DAY_OF_MONTH  DAY_OF_WEEK  ORIGIN_AIRPORT_ID  DEST_AIRPORT_ID  \\\n",
       "0                  1            2              13577            11057   \n",
       "1                  1            2              10529            11278   \n",
       "2                  1            2              11278            10529   \n",
       "3                  1            2              11278            11996   \n",
       "4                  1            2              13931            11057   \n",
       "...              ...          ...                ...              ...   \n",
       "638644            31            4              11057            11624   \n",
       "638645            31            4              11624            11057   \n",
       "638646            31            4              11278            12339   \n",
       "638647            31            4              14100            14122   \n",
       "638648            31            4              13303            13931   \n",
       "\n",
       "        CRS_DEP_TIME  CRS_ARR_TIME  ARR_DELAY  CRS_ELAPSED_TIME  DISTANCE  \\\n",
       "0               2157          2311       -3.0              74.0     157.0   \n",
       "1               1151          1325        6.0              94.0     313.0   \n",
       "2               1009          1126       14.0              77.0     313.0   \n",
       "3               2000          2134      -12.0              94.0     396.0   \n",
       "4               1215          1347      -14.0              92.0     290.0   \n",
       "...              ...           ...        ...               ...       ...   \n",
       "638644          1425          1640       -1.0             135.0     736.0   \n",
       "638645          1710          1921       -7.0             131.0     736.0   \n",
       "638646          2205          2357        2.0             112.0     500.0   \n",
       "638647          1749          1913      -13.0              84.0     268.0   \n",
       "638648          2130          2351      -22.0             141.0     802.0   \n",
       "\n",
       "        Unnamed: 9  \n",
       "0              NaN  \n",
       "1              NaN  \n",
       "2              NaN  \n",
       "3              NaN  \n",
       "4              NaN  \n",
       "...            ...  \n",
       "638644         NaN  \n",
       "638645         NaN  \n",
       "638646         NaN  \n",
       "638647         NaN  \n",
       "638648         NaN  \n",
       "\n",
       "[638649 rows x 10 columns]"
      ]
     },
     "execution_count": 41,
     "metadata": {},
     "output_type": "execute_result"
    }
   ],
   "source": [
    "data = pd.read_csv(\"data_2009.csv\")\n",
    "data\n"
   ]
  },
  {
   "cell_type": "code",
   "execution_count": 42,
   "metadata": {},
   "outputs": [],
   "source": [
    "data.drop(['Unnamed: 9'],axis = 1 , inplace = True)\n",
    "data.dropna(inplace= True)\n",
    "target_col2 = data['ARR_DELAY']\n",
    "\n",
    "data.drop(['ARR_DELAY'],axis =1 , inplace= True)\n",
    "data = pd.concat([data,target_col2],axis = 1)\n",
    "data = shuffle(data, random_state=45)\n",
    "\n",
    "# removing negative delays \n",
    "def remove_negative(Str):\n",
    "    if Str <= 0 :\n",
    "        return 0\n",
    "    elif Str > 0 and Str <= 20 :\n",
    "        return 1\n",
    "    elif Str > 20 and Str <= 40 : \n",
    "        return 2\n",
    "    elif Str > 40 and Str <= 60 :\n",
    "        return 3\n",
    "    elif Str > 60 and Str <= 90 :\n",
    "        return 4 \n",
    "    elif Str > 90 and Str < 120 :\n",
    "        return 5\n",
    "    else:\n",
    "        return 6\n",
    "data['ARR_DELAY']= data['ARR_DELAY'].apply(remove_negative)    \n",
    "X = data.dropna().iloc[:,:-1].values\n",
    "y = data.dropna().iloc[:,-1].values\n",
    "\n",
    "\n"
   ]
  },
  {
   "cell_type": "code",
   "execution_count": 47,
   "metadata": {},
   "outputs": [
    {
     "data": {
      "text/html": [
       "<div>\n",
       "<style scoped>\n",
       "    .dataframe tbody tr th:only-of-type {\n",
       "        vertical-align: middle;\n",
       "    }\n",
       "\n",
       "    .dataframe tbody tr th {\n",
       "        vertical-align: top;\n",
       "    }\n",
       "\n",
       "    .dataframe thead th {\n",
       "        text-align: right;\n",
       "    }\n",
       "</style>\n",
       "<table border=\"1\" class=\"dataframe\">\n",
       "  <thead>\n",
       "    <tr style=\"text-align: right;\">\n",
       "      <th></th>\n",
       "      <th>DAY_OF_MONTH</th>\n",
       "      <th>DAY_OF_WEEK</th>\n",
       "      <th>ORIGIN_AIRPORT_ID</th>\n",
       "      <th>DEST_AIRPORT_ID</th>\n",
       "      <th>CRS_DEP_TIME</th>\n",
       "      <th>CRS_ARR_TIME</th>\n",
       "      <th>CRS_ELAPSED_TIME</th>\n",
       "      <th>DISTANCE</th>\n",
       "      <th>ARR_DELAY</th>\n",
       "    </tr>\n",
       "  </thead>\n",
       "  <tbody>\n",
       "    <tr>\n",
       "      <th>582277</th>\n",
       "      <td>29</td>\n",
       "      <td>2</td>\n",
       "      <td>13495</td>\n",
       "      <td>11259</td>\n",
       "      <td>635</td>\n",
       "      <td>805</td>\n",
       "      <td>90.0</td>\n",
       "      <td>436.0</td>\n",
       "      <td>0</td>\n",
       "    </tr>\n",
       "    <tr>\n",
       "      <th>25842</th>\n",
       "      <td>2</td>\n",
       "      <td>3</td>\n",
       "      <td>11057</td>\n",
       "      <td>15412</td>\n",
       "      <td>920</td>\n",
       "      <td>1026</td>\n",
       "      <td>66.0</td>\n",
       "      <td>177.0</td>\n",
       "      <td>0</td>\n",
       "    </tr>\n",
       "    <tr>\n",
       "      <th>390480</th>\n",
       "      <td>19</td>\n",
       "      <td>6</td>\n",
       "      <td>10821</td>\n",
       "      <td>10721</td>\n",
       "      <td>530</td>\n",
       "      <td>654</td>\n",
       "      <td>84.0</td>\n",
       "      <td>369.0</td>\n",
       "      <td>6</td>\n",
       "    </tr>\n",
       "    <tr>\n",
       "      <th>208589</th>\n",
       "      <td>10</td>\n",
       "      <td>4</td>\n",
       "      <td>12889</td>\n",
       "      <td>14679</td>\n",
       "      <td>831</td>\n",
       "      <td>939</td>\n",
       "      <td>68.0</td>\n",
       "      <td>258.0</td>\n",
       "      <td>1</td>\n",
       "    </tr>\n",
       "    <tr>\n",
       "      <th>190234</th>\n",
       "      <td>10</td>\n",
       "      <td>4</td>\n",
       "      <td>11995</td>\n",
       "      <td>13930</td>\n",
       "      <td>1330</td>\n",
       "      <td>1443</td>\n",
       "      <td>133.0</td>\n",
       "      <td>589.0</td>\n",
       "      <td>0</td>\n",
       "    </tr>\n",
       "    <tr>\n",
       "      <th>...</th>\n",
       "      <td>...</td>\n",
       "      <td>...</td>\n",
       "      <td>...</td>\n",
       "      <td>...</td>\n",
       "      <td>...</td>\n",
       "      <td>...</td>\n",
       "      <td>...</td>\n",
       "      <td>...</td>\n",
       "      <td>...</td>\n",
       "    </tr>\n",
       "    <tr>\n",
       "      <th>393554</th>\n",
       "      <td>20</td>\n",
       "      <td>7</td>\n",
       "      <td>13244</td>\n",
       "      <td>12953</td>\n",
       "      <td>955</td>\n",
       "      <td>1330</td>\n",
       "      <td>155.0</td>\n",
       "      <td>963.0</td>\n",
       "      <td>1</td>\n",
       "    </tr>\n",
       "    <tr>\n",
       "      <th>589354</th>\n",
       "      <td>29</td>\n",
       "      <td>2</td>\n",
       "      <td>14057</td>\n",
       "      <td>13487</td>\n",
       "      <td>650</td>\n",
       "      <td>1202</td>\n",
       "      <td>192.0</td>\n",
       "      <td>1426.0</td>\n",
       "      <td>0</td>\n",
       "    </tr>\n",
       "    <tr>\n",
       "      <th>626140</th>\n",
       "      <td>31</td>\n",
       "      <td>4</td>\n",
       "      <td>12892</td>\n",
       "      <td>11618</td>\n",
       "      <td>1615</td>\n",
       "      <td>34</td>\n",
       "      <td>319.0</td>\n",
       "      <td>2454.0</td>\n",
       "      <td>1</td>\n",
       "    </tr>\n",
       "    <tr>\n",
       "      <th>408062</th>\n",
       "      <td>20</td>\n",
       "      <td>7</td>\n",
       "      <td>14057</td>\n",
       "      <td>14107</td>\n",
       "      <td>1055</td>\n",
       "      <td>1429</td>\n",
       "      <td>154.0</td>\n",
       "      <td>1009.0</td>\n",
       "      <td>0</td>\n",
       "    </tr>\n",
       "    <tr>\n",
       "      <th>408629</th>\n",
       "      <td>20</td>\n",
       "      <td>7</td>\n",
       "      <td>13204</td>\n",
       "      <td>11278</td>\n",
       "      <td>1207</td>\n",
       "      <td>1420</td>\n",
       "      <td>133.0</td>\n",
       "      <td>759.0</td>\n",
       "      <td>0</td>\n",
       "    </tr>\n",
       "  </tbody>\n",
       "</table>\n",
       "<p>617649 rows × 9 columns</p>\n",
       "</div>"
      ],
      "text/plain": [
       "        DAY_OF_MONTH  DAY_OF_WEEK  ORIGIN_AIRPORT_ID  DEST_AIRPORT_ID  \\\n",
       "582277            29            2              13495            11259   \n",
       "25842              2            3              11057            15412   \n",
       "390480            19            6              10821            10721   \n",
       "208589            10            4              12889            14679   \n",
       "190234            10            4              11995            13930   \n",
       "...              ...          ...                ...              ...   \n",
       "393554            20            7              13244            12953   \n",
       "589354            29            2              14057            13487   \n",
       "626140            31            4              12892            11618   \n",
       "408062            20            7              14057            14107   \n",
       "408629            20            7              13204            11278   \n",
       "\n",
       "        CRS_DEP_TIME  CRS_ARR_TIME  CRS_ELAPSED_TIME  DISTANCE  ARR_DELAY  \n",
       "582277           635           805              90.0     436.0          0  \n",
       "25842            920          1026              66.0     177.0          0  \n",
       "390480           530           654              84.0     369.0          6  \n",
       "208589           831           939              68.0     258.0          1  \n",
       "190234          1330          1443             133.0     589.0          0  \n",
       "...              ...           ...               ...       ...        ...  \n",
       "393554           955          1330             155.0     963.0          1  \n",
       "589354           650          1202             192.0    1426.0          0  \n",
       "626140          1615            34             319.0    2454.0          1  \n",
       "408062          1055          1429             154.0    1009.0          0  \n",
       "408629          1207          1420             133.0     759.0          0  \n",
       "\n",
       "[617649 rows x 9 columns]"
      ]
     },
     "execution_count": 47,
     "metadata": {},
     "output_type": "execute_result"
    }
   ],
   "source": [
    "data"
   ]
  },
  {
   "cell_type": "code",
   "execution_count": 51,
   "metadata": {},
   "outputs": [
    {
     "name": "stdout",
     "output_type": "stream",
     "text": [
      "[[400659   1733    418      4      5     12   1590]\n",
      " [115815    782    107      1      0      4    590]\n",
      " [ 38261    260     31      0      0      2    160]\n",
      " [ 18084    101     11      0      0      2     54]\n",
      " [ 14545     62      4      0      0      0     39]\n",
      " [  7960     36      4      0      0      0     17]\n",
      " [ 16217     45      4      0      1      0     29]]\n",
      "              precision    recall  f1-score   support\n",
      "\n",
      "           0       0.66      0.99      0.79    404421\n",
      "           1       0.26      0.01      0.01    117299\n",
      "           2       0.05      0.00      0.00     38714\n",
      "           3       0.00      0.00      0.00     18252\n",
      "           4       0.00      0.00      0.00     14650\n",
      "           5       0.00      0.00      0.00      8017\n",
      "           6       0.01      0.00      0.00     16296\n",
      "\n",
      "    accuracy                           0.65    617649\n",
      "   macro avg       0.14      0.14      0.12    617649\n",
      "weighted avg       0.48      0.65      0.52    617649\n",
      "\n",
      "0.6500471950897678\n",
      "[[[  2346 210882]\n",
      "  [  3762 400659]]\n",
      "\n",
      " [[498113   2237]\n",
      "  [116517    782]]\n",
      "\n",
      " [[578387    548]\n",
      "  [ 38683     31]]\n",
      "\n",
      " [[599392      5]\n",
      "  [ 18252      0]]\n",
      "\n",
      " [[602993      6]\n",
      "  [ 14650      0]]\n",
      "\n",
      " [[609612     20]\n",
      "  [  8017      0]]\n",
      "\n",
      " [[598903   2450]\n",
      "  [ 16267     29]]]\n"
     ]
    }
   ],
   "source": [
    "y_pred_DT = clf.predict(X)\n",
    "print(confusion_matrix(y,y_pred_DT))\n",
    "print(classification_report(y,y_pred_DT))\n",
    "print(accuracy_score(y, y_pred_DT))\n",
    "\n",
    "print(multilabel_confusion_matrix(y, y_pred_DT,labels=[0,1,2,3,4,5,6]))"
   ]
  },
  {
   "cell_type": "code",
   "execution_count": 50,
   "metadata": {},
   "outputs": [
    {
     "name": "stdout",
     "output_type": "stream",
     "text": [
      "[[404421      0      0      0      0      0      0]\n",
      " [117299      0      0      0      0      0      0]\n",
      " [ 38714      0      0      0      0      0      0]\n",
      " [ 18252      0      0      0      0      0      0]\n",
      " [ 14650      0      0      0      0      0      0]\n",
      " [  8017      0      0      0      0      0      0]\n",
      " [ 16296      0      0      0      0      0      0]]\n"
     ]
    },
    {
     "name": "stderr",
     "output_type": "stream",
     "text": [
      "/Users/macbook55/.pyenv/versions/3.7.5/lib/python3.7/site-packages/sklearn/metrics/_classification.py:1272: UndefinedMetricWarning: Precision and F-score are ill-defined and being set to 0.0 in labels with no predicted samples. Use `zero_division` parameter to control this behavior.\n",
      "  _warn_prf(average, modifier, msg_start, len(result))\n"
     ]
    },
    {
     "name": "stdout",
     "output_type": "stream",
     "text": [
      "              precision    recall  f1-score   support\n",
      "\n",
      "           0       0.65      1.00      0.79    404421\n",
      "           1       0.00      0.00      0.00    117299\n",
      "           2       0.00      0.00      0.00     38714\n",
      "           3       0.00      0.00      0.00     18252\n",
      "           4       0.00      0.00      0.00     14650\n",
      "           5       0.00      0.00      0.00      8017\n",
      "           6       0.00      0.00      0.00     16296\n",
      "\n",
      "    accuracy                           0.65    617649\n",
      "   macro avg       0.09      0.14      0.11    617649\n",
      "weighted avg       0.43      0.65      0.52    617649\n",
      "\n",
      "0.6547747992792022\n",
      "[[[     0 213228]\n",
      "  [     0 404421]]\n",
      "\n",
      " [[500350      0]\n",
      "  [117299      0]]\n",
      "\n",
      " [[578935      0]\n",
      "  [ 38714      0]]\n",
      "\n",
      " [[599397      0]\n",
      "  [ 18252      0]]\n",
      "\n",
      " [[602999      0]\n",
      "  [ 14650      0]]\n",
      "\n",
      " [[609632      0]\n",
      "  [  8017      0]]\n",
      "\n",
      " [[601353      0]\n",
      "  [ 16296      0]]]\n"
     ]
    }
   ],
   "source": [
    "y_pred_RF = bagging.predict(X)\n",
    "print(confusion_matrix(y,y_pred_RF))\n",
    "print(classification_report(y,y_pred_RF))\n",
    "print(accuracy_score(y, y_pred_RF))\n",
    "\n",
    "from sklearn.metrics import multilabel_confusion_matrix\n",
    "print(multilabel_confusion_matrix(y, y_pred_RF,labels=[0,1,2,3,4,5,6]))\n",
    "\n",
    "\n"
   ]
  },
  {
   "cell_type": "markdown",
   "metadata": {},
   "source": [
    "# Comparing two models with 2019 data\n",
    "\n",
    "\n",
    "From my point of view looks like the two models are very alike but when testing new data still random forest go slightly more accurate than optimized Decision Tree.\n",
    "\n",
    "However confusion matrix of optimized Decision tree is way better than random forest \n",
    "\n",
    "\n",
    "| comparison field | Decision Tree withKfold   | Random Forest with Bagging |\n",
    "| --- | --- | --- |\n",
    "| precision | 0.14 | 0.09 |\n",
    "| accuracy | 0.650 | 0.654 |\n",
    "| recall | 0.14 | 0.14 |\n",
    "| f1 | 0.12 | 0.11|\n",
    "\n",
    "\n",
    "\n",
    "let's explain how each one behave according to every confusion matrix we got \n",
    "\n",
    "\n",
    "- Decision Tree confusion matrix vs Random Forest confusion matrix \n",
    "\n",
    "\n",
    "\n",
    "| comparison field | Decision Tree withKfold   | Random Forest with Bagging |\n",
    "| --- | --- | --- |\n",
    "| label 0  | [[[  2346 210882] [  3762 400659]] | [[     0 213228][     0 404421]] |\n",
    "| label 1 <20 minutes>  | [[498113   2237] [116517    782]] |[[500350      0][117299      0]] |\n",
    "| label 2  <40 minutes> |  [[578387    548][ 38683     31]] |[[578935      0][ 38714      0]] |\n",
    "| label 3  <60 minutes> |  [[599392      5][ 18252      0]] |[[599397      0][ 18252      0]]|\n",
    "| label 4  <90 minutes> |  [[602993      6][ 14650      0]] |[[602999      0][ 14650      0]]|\n",
    "| label 5  <120 minutes>|  [[609612     20][  8017      0]]|[[609632      0][  8017      0]]|\n",
    "| label 6  <more than 120 minutes>|  [[598903   2450][ 16267     29]]] |[[601353      0][ 16296      0]]]|\n",
    "\n",
    "\n",
    "from the first look we can detict that random forest is biased to the negativity in all labels except for label 0 \n",
    "However Decision tree model seems to have opinion and faults in each label \n",
    "i thought that i did something wrong with random forest but turns out that it is because of the nature of the model i guess.\n",
    "\n",
    "\n",
    "\n",
    "  \n",
    "\n",
    " "
   ]
  },
  {
   "cell_type": "markdown",
   "metadata": {},
   "source": [
    "# Concolusion\n",
    "\n",
    "\n",
    "Both models almost behaves the same however decision tree seems to be better in classifing multiple labels with resonable results and resonable mistakes\n",
    "This was everything i guess and i would be happy to take your comments if you have any\n"
   ]
  },
  {
   "cell_type": "code",
   "execution_count": null,
   "metadata": {},
   "outputs": [],
   "source": []
  },
  {
   "cell_type": "code",
   "execution_count": 58,
   "metadata": {},
   "outputs": [
    {
     "data": {
      "text/plain": [
       "1"
      ]
     },
     "execution_count": 58,
     "metadata": {},
     "output_type": "execute_result"
    }
   ],
   "source": []
  },
  {
   "cell_type": "code",
   "execution_count": null,
   "metadata": {},
   "outputs": [],
   "source": []
  }
 ],
 "metadata": {
  "kernelspec": {
   "display_name": "Python 3",
   "language": "python",
   "name": "python3"
  },
  "language_info": {
   "codemirror_mode": {
    "name": "ipython",
    "version": 3
   },
   "file_extension": ".py",
   "mimetype": "text/x-python",
   "name": "python",
   "nbconvert_exporter": "python",
   "pygments_lexer": "ipython3",
   "version": "3.7.5"
  }
 },
 "nbformat": 4,
 "nbformat_minor": 4
}
